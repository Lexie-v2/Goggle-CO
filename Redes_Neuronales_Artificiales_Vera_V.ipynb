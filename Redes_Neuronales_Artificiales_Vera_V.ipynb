{
  "nbformat": 4,
  "nbformat_minor": 0,
  "metadata": {
    "colab": {
      "provenance": [],
      "authorship_tag": "ABX9TyO3k5IkInnyX4nFuj6qn5nE",
      "include_colab_link": true
    },
    "kernelspec": {
      "name": "python3",
      "display_name": "Python 3"
    },
    "language_info": {
      "name": "python"
    }
  },
  "cells": [
    {
      "cell_type": "markdown",
      "metadata": {
        "id": "view-in-github",
        "colab_type": "text"
      },
      "source": [
        "<a href=\"https://colab.research.google.com/github/Lexie-v2/Goggle-CO/blob/main/Redes_Neuronales_Artificiales_Vera_V.ipynb\" target=\"_parent\"><img src=\"https://colab.research.google.com/assets/colab-badge.svg\" alt=\"Open In Colab\"/></a>"
      ]
    },
    {
      "cell_type": "markdown",
      "source": [
        "#Introducciòn a Keras: Implementando una RNA para clasificar imagenes"
      ],
      "metadata": {
        "id": "JCWXOuEtxXmK"
      }
    },
    {
      "cell_type": "markdown",
      "source": [
        "IMPLEMENTACIÒN DE UNA RED NEURONAL ARTIFICIAL"
      ],
      "metadata": {
        "id": "29dfHnQ3xcKy"
      }
    },
    {
      "cell_type": "markdown",
      "source": [
        "##0. Importaciòn de librerias"
      ],
      "metadata": {
        "id": "mqoueki-xezm"
      }
    },
    {
      "cell_type": "markdown",
      "source": [
        "Como primer paso, vamos a importar las librerias especificas necesarias pra la implementaciòn de la Red Neuronal Artificial, en este caso usaremos el framework **Keras**"
      ],
      "metadata": {
        "id": "hFDzmguxxfwA"
      }
    },
    {
      "cell_type": "markdown",
      "source": [
        "Procedemos con la instalaciòn de Keras mediante el paquete de **keras-core**"
      ],
      "metadata": {
        "id": "cvd9jOScxruQ"
      }
    },
    {
      "cell_type": "code",
      "source": [
        "#!pip install keras-core"
      ],
      "metadata": {
        "id": "npcYY2sexpOB"
      },
      "execution_count": null,
      "outputs": []
    },
    {
      "cell_type": "markdown",
      "source": [
        "Con la nueva version de Keras, podemos escoger que backend vamos a utilizar, debemos tener en cuenta que por defecto se selecciona **tensorflow**, sin embargo, tenemos disponibles otros backends como **pytorch** o **jax**.\n",
        "No olvidar que el backend debe configurarse antes de importar Keras y no puede cambiarse despues de la importaciòn."
      ],
      "metadata": {
        "id": "lxhLopGcxvZQ"
      }
    },
    {
      "cell_type": "code",
      "source": [
        "#import os\n",
        "#os.environ[\"KERAS_BACKEND\"] = \"torch\""
      ],
      "metadata": {
        "id": "ltXZrZUWx2EO"
      },
      "execution_count": null,
      "outputs": []
    },
    {
      "cell_type": "markdown",
      "source": [
        "Importamos Keras con el backend seleccionado"
      ],
      "metadata": {
        "id": "Q1n5v9rLxygS"
      }
    },
    {
      "cell_type": "code",
      "source": [
        "# import keras_core"
      ],
      "metadata": {
        "id": "q31orT5GyBO-"
      },
      "execution_count": null,
      "outputs": []
    },
    {
      "cell_type": "markdown",
      "source": [
        "Otra opcion es utilizar Keras desde el framework Tensorflow. Si el backend que vamos a utilizar es Tensorflow, esta opcion està màs optimizada y suele proporcionar mejores resultados.\n",
        "\n",
        "Tanto Keras-core como la versión de Keras que se encuentra en framework Tensorflow son totalmente compatibles y no requieren modificaciones en la implementación del programa.."
      ],
      "metadata": {
        "id": "AcckTEIex9s9"
      }
    },
    {
      "cell_type": "code",
      "execution_count": 1,
      "metadata": {
        "colab": {
          "base_uri": "https://localhost:8080/",
          "height": 36
        },
        "id": "mUCxoSRJxVy9",
        "outputId": "1c0d1a44-7415-4582-d940-6072586dd124"
      },
      "outputs": [
        {
          "output_type": "execute_result",
          "data": {
            "text/plain": [
              "''"
            ],
            "application/vnd.google.colaboratory.intrinsic+json": {
              "type": "string"
            }
          },
          "metadata": {},
          "execution_count": 1
        }
      ],
      "source": [
        "from tensorflow import keras\n",
        "#Verificamos si el backend (Tensorflow) està utilizando la GPU\n",
        "import tensorflow as tf\n",
        "tf.test.gpu_device_name()"
      ]
    }
  ]
}