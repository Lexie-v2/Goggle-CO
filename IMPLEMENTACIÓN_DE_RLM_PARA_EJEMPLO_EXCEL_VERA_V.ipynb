{
  "nbformat": 4,
  "nbformat_minor": 0,
  "metadata": {
    "colab": {
      "provenance": [],
      "authorship_tag": "ABX9TyPv2glasbwNSWX2HuKGapGe",
      "include_colab_link": true
    },
    "kernelspec": {
      "name": "python3",
      "display_name": "Python 3"
    },
    "language_info": {
      "name": "python"
    }
  },
  "cells": [
    {
      "cell_type": "markdown",
      "metadata": {
        "id": "view-in-github",
        "colab_type": "text"
      },
      "source": [
        "<a href=\"https://colab.research.google.com/github/Lexie-v2/Goggle-CO/blob/main/IMPLEMENTACI%C3%93N_DE_RLM_PARA_EJEMPLO_EXCEL_VERA_V.ipynb\" target=\"_parent\"><img src=\"https://colab.research.google.com/assets/colab-badge.svg\" alt=\"Open In Colab\"/></a>"
      ]
    },
    {
      "cell_type": "markdown",
      "source": [
        "VANESA VERA"
      ],
      "metadata": {
        "id": "AwiHjqCfvzED"
      }
    },
    {
      "cell_type": "markdown",
      "source": [
        "# **IMPLEMENTACIÓN DE RLM PARA EJEMPLO EXCEL**"
      ],
      "metadata": {
        "id": "9xEzHmroyKqd"
      }
    },
    {
      "cell_type": "markdown",
      "source": [
        "Para esta implementación usaremos como factores al precio y presentación de un producto  como variables independientes y a su demanda como variable dependente. En este ejercicio veremos la variación de la demanda de un producto respecto a su precio y presentación.\n",
        "[HOJA DE CÁLCULO](https://docs.google.com/spreadsheets/d/1rUtg0XIEZbaY3usarB0fBhfEr94NLqKO/edit?usp=drive_link&ouid=103385063563636007041&rtpof=true&sd=true)"
      ],
      "metadata": {
        "id": "LjLosAuZwEEA"
      }
    },
    {
      "cell_type": "markdown",
      "source": [
        "Explicación del código"
      ],
      "metadata": {
        "id": "QZhu61jD79c6"
      }
    },
    {
      "cell_type": "markdown",
      "source": [
        "1. **Importación de Librerías**\n",
        "   En el primer paso, importé las siguientes librerías:\n",
        "   - `pandas` para gestionar los datos en forma de DataFrame.\n",
        "   - `numpy` para realizar operaciones matemáticas.\n",
        "   - `LinearRegression` de `sklearn.linear_model` para construir y entrenar el modelo de regresión.\n",
        "   - `matplotlib.pyplot` para generar gráficos (en este caso, no utilizado aún).\n",
        "\n",
        "2. **Creación de un DataFrame**\n",
        "   Utilicé un diccionario con los datos que ya teniamos del excel, que incluyen las siguientes columnas:\n",
        "   - `x1`: Variable independiente que representa \"presentación\".\n",
        "   - `x2`: Variable independiente que representa \"demanda\".\n",
        "   - `y`: Variable dependiente, que representa \"precio\".\n",
        "   Luego convertí este diccionario en un DataFrame usando `pd.DataFrame(data)`.\n",
        "\n",
        "3. **Separación de Variables**\n",
        "   Dividí el DataFrame en dos partes:\n",
        "   - `X` incluye las columnas \\(x_1\\) y \\(x_2\\), que son las variables independientes.\n",
        "   - `y` contiene la columna \\(y\\), que es la variable dependiente.\n",
        "\n",
        "4. **Entrenamiento del Modelo**\n",
        "   Creé el modelo de regresión utilizando `LinearRegression()` y lo entrené con `.fit(X, y)` usando los datos disponibles. Este método calcula el intercepto (\\(a\\)) y los coeficientes (\\(b_1, b_2\\)) que ajustan mejor el modelo a los datos.\n",
        "\n",
        "5. **Cálculo del Intercepto y Coeficientes**\n",
        "   Usé:\n",
        "   - `modelo.intercept_` para obtener el valor del intercepto (\\(a\\)), que representa el precio estimado cuando las variables independientes son cero.\n",
        "   - `modelo.coef_` para obtener los valores de los coeficientes (\\(b_1\\) y \\(b_2\\)), que indican cuánto cambia el precio (\\(y\\)) por cada unidad adicional de las variables independientes \\(x_1\\) y \\(x_2\\).\n",
        "\n",
        "6. **Visualización de Resultados**\n",
        "   Imprimí los valores obtenidos:\n",
        "   - El intercepto (\\(a\\)).\n",
        "   - Los coeficientes (\\(b1\\) y \\(b2\\)).\n",
        "\n",
        "Con esta información, puedo construir la ecuación ajustada del modelo de regresión lineal múltiple:\n",
        "\\[\n",
        "y = a + b1 \\cdot x1 + b2 \\cdot x2\n",
        "\\]\n"
      ],
      "metadata": {
        "id": "9VuYXWQc6mEs"
      }
    },
    {
      "cell_type": "code",
      "execution_count": 10,
      "metadata": {
        "colab": {
          "base_uri": "https://localhost:8080/"
        },
        "id": "EQC8JXQ3vF4M",
        "outputId": "e12fa737-4ba4-4f19-bb60-34e727f3f46a"
      },
      "outputs": [
        {
          "output_type": "stream",
          "name": "stdout",
          "text": [
            "Intercepto: 9.135416666666666\n",
            "Coeficientes: [-0.84375   1.765625]\n",
            "Ecuación: y = 9.135416666666666 + -0.8437500000000007*x1 + 1.7656250000000002*x2\n"
          ]
        }
      ],
      "source": [
        "import pandas as pd\n",
        "import numpy as np\n",
        "from sklearn.linear_model import LinearRegression\n",
        "import matplotlib.pyplot as plt\n",
        "\n",
        "# Crear el DataFrame con los datos proporcionados\n",
        "data = {\n",
        "    'x1': [1, 1, 1, 2, 2, 2],\n",
        "    'x2': [1, 2, 5, 1, 3, 6],\n",
        "    'y': [5, 20, 14, 7, 15, 18]\n",
        "}\n",
        "df = pd.DataFrame(data)\n",
        "\n",
        "# Separar las variables independientes (x1, x2) y dependiente (y)\n",
        "X = df[['x1', 'x2']]  # Variables independientes\n",
        "y = df['y']           # Variable dependiente\n",
        "\n",
        "# Crear y entrenar el modelo de regresión múltiple\n",
        "modelo = LinearRegression()\n",
        "modelo.fit(X, y)\n",
        "\n",
        "# Obtener el intercepto y los coeficientes\n",
        "intercepto = modelo.intercept_\n",
        "coeficientes = modelo.coef_\n",
        "\n",
        "# Mostrar los resultados\n",
        "print(f\"Intercepto: {intercepto}\")\n",
        "print(f\"Coeficientes: {coeficientes}\")\n",
        "\n",
        "# Imprimir la eacueacion de la recta de regresión\n",
        "print(f\"Ecuación: y = {intercepto} + {coeficientes[0]}*x1 + {coeficientes[1]}*x2\")"
      ]
    },
    {
      "cell_type": "markdown",
      "source": [
        "Al realizar la implementación en python a traves de la función **regresión lineal** que nos ofrece la libreria SKlearn, podemos comprobar que nuestros resultados obtenidos a traves de la regla de Cramer son acertados."
      ],
      "metadata": {
        "id": "UbNY87pP7CyL"
      }
    }
  ]
}