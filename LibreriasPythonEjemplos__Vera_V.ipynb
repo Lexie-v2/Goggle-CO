{
  "nbformat": 4,
  "nbformat_minor": 0,
  "metadata": {
    "colab": {
      "provenance": [],
      "authorship_tag": "ABX9TyMDG43qoKB4+E2nbVU/1nbo",
      "include_colab_link": true
    },
    "kernelspec": {
      "name": "python3",
      "display_name": "Python 3"
    },
    "language_info": {
      "name": "python"
    }
  },
  "cells": [
    {
      "cell_type": "markdown",
      "metadata": {
        "id": "view-in-github",
        "colab_type": "text"
      },
      "source": [
        "<a href=\"https://colab.research.google.com/github/Lexie-v2/Goggle-CO/blob/main/LibreriasPythonEjemplos__Vera_V.ipynb\" target=\"_parent\"><img src=\"https://colab.research.google.com/assets/colab-badge.svg\" alt=\"Open In Colab\"/></a>"
      ]
    },
    {
      "cell_type": "markdown",
      "source": [
        "Vanesa Vera"
      ],
      "metadata": {
        "id": "JR0J9czAasEm"
      }
    },
    {
      "cell_type": "markdown",
      "source": [
        "#**Librerias en Python para implementar Regresión Lineal Simple y Multiple**"
      ],
      "metadata": {
        "id": "WrRqrjMiZyg2"
      }
    },
    {
      "cell_type": "markdown",
      "source": [
        "Veremos algunos ejemplos de usos de librerias de python para implementar Regresión Lineal Simple y Multiple"
      ],
      "metadata": {
        "id": "nc7Rtg7LacIE"
      }
    },
    {
      "cell_type": "markdown",
      "source": [
        "##1. **Scikit-learn**\n",
        "\n"
      ],
      "metadata": {
        "id": "VulS4seBaDZm"
      }
    },
    {
      "cell_type": "markdown",
      "source": [
        "Scikit-learn es una de las bibliotecas más utilizadas en Python para implementar algoritmos de aprendizaje automático. Proporciona una interfaz simple y eficiente que permite realizar regresión lineal tanto simple como múltiple.\n",
        "Características:\n",
        "- Proporciona herramientas rápidas y optimizadas.\n",
        "- Permite evaluar modelos con métricas como el coeficiente de determinación ((R^2)) y el error cuadrático medio (ECM).\n",
        "- Ideal para tareas de regresión con múltiples variables."
      ],
      "metadata": {
        "id": "peD6JwpebDCL"
      }
    },
    {
      "cell_type": "markdown",
      "source": [
        "**EJEMPLOS DE APLICACIÓN**\n",
        "\n",
        "*   REGRESIÓN LINEAL SIMPLE: Para este ejemplo utilizaremos horas de estudio como la variable independiente para predecir el puntaje en un examen (variable dependiente).\n"
      ],
      "metadata": {
        "id": "rOKMA4Hcb_7k"
      }
    },
    {
      "cell_type": "code",
      "source": [
        "from sklearn.linear_model import LinearRegression\n",
        "import numpy as np\n",
        "\n",
        "# Datos de ejemplo\n",
        "X = np.array([[2], [3], [4], [5], [6]])  # Horas de estudio (variable independiente)\n",
        "y = np.array([60, 65, 70, 75, 80])       # Puntaje en el examen (variable dependiente)\n",
        "\n",
        "# Crear y entrenar el modelo\n",
        "modelo_simple = LinearRegression()\n",
        "modelo_simple.fit(X, y)\n",
        "\n",
        "# Predicción\n",
        "horas_estudio = np.array([[10]])  # Predicción para 10 horas de estudio\n",
        "prediccion = modelo_simple.predict(horas_estudio)\n",
        "print(f\"Predicción para 10 horas de estudio: {prediccion[0]}\")\n"
      ],
      "metadata": {
        "colab": {
          "base_uri": "https://localhost:8080/"
        },
        "id": "UsWoHR9Ic2S1",
        "outputId": "bfbd805e-c10f-4c9d-a3c5-868b5fec92a7"
      },
      "execution_count": 6,
      "outputs": [
        {
          "output_type": "stream",
          "name": "stdout",
          "text": [
            "Predicción para 10 horas de estudio: 100.0\n"
          ]
        }
      ]
    },
    {
      "cell_type": "markdown",
      "source": [
        "\n",
        "\n",
        "*   REGREIÓN LINEAL MULTIPLE: Para este ejemplo usaremos las mismas variables que usamos para el ejemplo anterior, solo que incluiremos datos adicionales, como prácticas completadas, para mejorar el modelo y realizar predicciones más precisas.\n",
        "\n"
      ],
      "metadata": {
        "id": "mb0kOrE7cgIz"
      }
    },
    {
      "cell_type": "code",
      "source": [
        "from sklearn.linear_model import LinearRegression\n",
        "import numpy as np\n",
        "\n",
        "# Datos de ejemplo\n",
        "X = np.array([[2, 1], [3, 2], [4, 3], [5, 3], [6, 4]])  # Horas de estudio y prácticas completadas\n",
        "y = np.array([60, 65, 70, 75, 80])                      # Puntaje en el examen\n",
        "\n",
        "# Crear y entrenar el modelo\n",
        "modelo_multiple = LinearRegression()\n",
        "modelo_multiple.fit(X, y)\n",
        "\n",
        "# Predicción\n",
        "nuevos_datos = np.array([[7, 5]])  # Predicción para 7 horas de estudio y 5 prácticas\n",
        "prediccion = modelo_multiple.predict(nuevos_datos)\n",
        "print(f\"Predicción para 7 horas de estudio y 5 prácticas: {prediccion[0]}\")\n"
      ],
      "metadata": {
        "colab": {
          "base_uri": "https://localhost:8080/"
        },
        "id": "MztH-jhuaA84",
        "outputId": "90b3d1b6-96db-46b1-b532-52b15124e28e"
      },
      "execution_count": 7,
      "outputs": [
        {
          "output_type": "stream",
          "name": "stdout",
          "text": [
            "Predicción para 7 horas de estudio y 5 prácticas: 85.0\n"
          ]
        }
      ]
    },
    {
      "cell_type": "markdown",
      "source": [
        "##2. **NumPy**"
      ],
      "metadata": {
        "id": "4Yo8gAXjaDxQ"
      }
    },
    {
      "cell_type": "markdown",
      "source": [
        "NumPy es una biblioteca clave para cálculos matemáticos en Python. Aunque no está especializada en aprendizaje automático como Scikit-learn, permite realizar cálculos básicos de regresión lineal, como el ajuste de líneas y polinomios."
      ],
      "metadata": {
        "id": "nj_gOk1sd1Ie"
      }
    },
    {
      "cell_type": "markdown",
      "source": [
        "**EJEMPLOS DE APLICACIÓN**\n",
        "\n",
        "Para este ejemplo usaremos NumPy para calcular los coeficientes de uan ecuación lineal que ajusta los datos\n",
        "\n",
        "*   REGRESIÓN LINEAL SIMPLE: Para la regresión simple ajustaremos una recta basada en horas de estudio y puntaje en el examen\n"
      ],
      "metadata": {
        "id": "r3y1XnR-eDp-"
      }
    },
    {
      "cell_type": "code",
      "source": [
        "import numpy as np\n",
        "\n",
        "# Datos de ejemplo\n",
        "X = np.array([2, 3, 4, 5, 6])  # Horas de estudio\n",
        "y = np.array([60, 65, 70, 75, 80])  # Puntaje en el examen\n",
        "\n",
        "# Cálculo de coeficientes\n",
        "coef = np.polyfit(X, y, 1)  # Ajuste lineal\n",
        "print(f\"Pendiente: {coef[0]}, Intercepto: {coef[1]}\")\n",
        "\n",
        "# Predicción para 7 horas de estudio\n",
        "prediccion = coef[0] * 7 + coef[1]\n",
        "print(f\"Predicción para 7 horas de estudio: {prediccion}\")\n"
      ],
      "metadata": {
        "colab": {
          "base_uri": "https://localhost:8080/"
        },
        "id": "O69MEj8BfT1T",
        "outputId": "796a2f87-cb93-495d-b611-454774651942"
      },
      "execution_count": 8,
      "outputs": [
        {
          "output_type": "stream",
          "name": "stdout",
          "text": [
            "Pendiente: 4.999999999999999, Intercepto: 50.0\n",
            "Predicción para 7 horas de estudio: 85.0\n"
          ]
        }
      ]
    },
    {
      "cell_type": "markdown",
      "source": [
        "En este caso Numpy por si sola no es ideal para manejar una regresion lineal multple, sin embargo lo podemos implementar usando funcionalidades como la manipulación de matrices y el álgebra lineal.\n",
        "\n",
        "*   REGRESIÓN LINEAL MULTIPLE: Para la regresión mulltple, ampliaremos el analisis del ejemplo anterior incorporando más variables. Crearemos una matriz para las varaibles independientes y un vector para la varible dependiente. Agregaremos una columna de ceros para repreesentar el intercepto del modelo b0 y aplicaremos la formula de minimos cuadrados **$W = (X^TX)^{-1}X^TY$** donde x (matriz de variables independientes), y (vector de la variable dependiente), ***W***  (Vector de coeficientes estimados). Finalmente para calcular las predicciones, multiplicaremos la matriz (X) por el vector de coeficientes (***W*** )."
      ],
      "metadata": {
        "id": "8pcss4Sjgjd5"
      }
    },
    {
      "cell_type": "code",
      "execution_count": 11,
      "metadata": {
        "colab": {
          "base_uri": "https://localhost:8080/"
        },
        "id": "0YNmIbspYXwC",
        "outputId": "3c7f43a6-eff3-45f7-f86f-2af123189aad"
      },
      "outputs": [
        {
          "output_type": "stream",
          "name": "stdout",
          "text": [
            "Coeficientes (intercepto, pendientes): [ 5.0000000e+01  5.0000000e+00 -2.7000624e-13]\n",
            "Predicción para 7 horas de estudio y 5 prácticas completadas: 85.0000000000009\n"
          ]
        }
      ],
      "source": [
        "import numpy as np\n",
        "\n",
        "# Datos de ejemplo\n",
        "X = np.array([\n",
        "    [2, 1],  # Horas de estudio, Prácticas completadas\n",
        "    [3, 2],\n",
        "    [4, 3],\n",
        "    [5, 3],\n",
        "    [6, 4]\n",
        "])  # Variables independientes\n",
        "y = np.array([60, 65, 70, 75, 80])  # Puntajes (variable dependiente)\n",
        "\n",
        "# Agregar columna de unos para el intercepto\n",
        "X_b = np.c_[np.ones((X.shape[0], 1)), X]  # Añadir columna de \"unos\" a la matriz X\n",
        "\n",
        "# Aplicar la fórmula de mínimos cuadrados: W = (X^T X)^-1 X^T y\n",
        "W = np.linalg.inv(X_b.T @ X_b) @ X_b.T @ y\n",
        "\n",
        "# Mostrar los coeficientes del modelo\n",
        "print(f\"Coeficientes (intercepto, pendientes): {W}\")\n",
        "\n",
        "# Predicción para nuevos datos\n",
        "nuevos_datos = np.array([[7, 5]])  # Ejemplo: 7 horas de estudio, 5 prácticas\n",
        "nuevos_datos_b = np.c_[np.ones((nuevos_datos.shape[0], 1)), nuevos_datos]  # Agregar intercepto\n",
        "prediccion = nuevos_datos_b @ W  # Predicción usando los coeficientes\n",
        "print(f\"Predicción para 7 horas de estudio y 5 prácticas completadas: {prediccion[0]}\")\n",
        "\n"
      ]
    },
    {
      "cell_type": "markdown",
      "source": [
        "##3. **Pandas**"
      ],
      "metadata": {
        "id": "nC_OYcyeZZ2b"
      }
    },
    {
      "cell_type": "markdown",
      "source": [
        "Pandas es una biblioteca para la manipulación y análisis de datos estructurados. Aunque no realiza regresión lineal directamente, es fundamental para preparar los datos antes de pasar a otras librerías como Scikit-learn o Statsmodels."
      ],
      "metadata": {
        "id": "ulsj7XwnotjW"
      }
    },
    {
      "cell_type": "markdown",
      "source": [
        "**EJEMPLOS DE APLICACIÓN**\n",
        "\n",
        "Para este ejemplo usaremos Pandas para organizar y limpiar los datos antes de aplicar el modelo de regresión.\n",
        "\n",
        "*   REGRESIÓN LINEAL SIMPLE: Para la regresión simple ajustaremos una recta basada en horas de estudio y puntaje en el eaxmen\n"
      ],
      "metadata": {
        "id": "XD_-7w2Qo6hZ"
      }
    },
    {
      "cell_type": "code",
      "source": [],
      "metadata": {
        "id": "TmKj1Hogo5lX"
      },
      "execution_count": null,
      "outputs": []
    }
  ]
}