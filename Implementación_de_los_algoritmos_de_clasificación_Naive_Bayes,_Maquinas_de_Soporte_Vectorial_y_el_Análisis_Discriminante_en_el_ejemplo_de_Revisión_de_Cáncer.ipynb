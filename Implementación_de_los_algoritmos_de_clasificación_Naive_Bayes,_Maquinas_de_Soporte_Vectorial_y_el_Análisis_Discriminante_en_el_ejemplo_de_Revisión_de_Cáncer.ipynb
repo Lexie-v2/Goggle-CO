{
  "nbformat": 4,
  "nbformat_minor": 0,
  "metadata": {
    "colab": {
      "provenance": [],
      "authorship_tag": "ABX9TyNqLyu13KPBhVgJg0E6BtRU",
      "include_colab_link": true
    },
    "kernelspec": {
      "name": "python3",
      "display_name": "Python 3"
    },
    "language_info": {
      "name": "python"
    }
  },
  "cells": [
    {
      "cell_type": "markdown",
      "metadata": {
        "id": "view-in-github",
        "colab_type": "text"
      },
      "source": [
        "<a href=\"https://colab.research.google.com/github/Lexie-v2/Goggle-CO/blob/main/Implementaci%C3%B3n_de_los_algoritmos_de_clasificaci%C3%B3n_Naive_Bayes%2C_Maquinas_de_Soporte_Vectorial_y_el_An%C3%A1lisis_Discriminante_en_el_ejemplo_de_Revisi%C3%B3n_de_C%C3%A1ncer.ipynb\" target=\"_parent\"><img src=\"https://colab.research.google.com/assets/colab-badge.svg\" alt=\"Open In Colab\"/></a>"
      ]
    },
    {
      "cell_type": "markdown",
      "source": [
        "Vanesa Vera\n",
        "\n",
        "INTELIGENCIA ARTIFICIAL, PRINCIPIOS Y TECNICAS"
      ],
      "metadata": {
        "id": "4FHM2Pq98YPl"
      }
    },
    {
      "cell_type": "markdown",
      "source": [
        "#Implementación de los algoritmos de clasificación Naive-Bayes, Maquinas de Soporte Vectorial y el Análisis Discriminante en el ejemplo de Revisión de Cáncer"
      ],
      "metadata": {
        "id": "poNVtlDY8YsY"
      }
    },
    {
      "cell_type": "markdown",
      "source": [
        "Este notebook explora la aplicación de algoritmos de clasificación en el Breast Cancer Wisconsin (Diagnostic) Dataset, un conjunto de datos utilizado para distinguir entre tumores benignos y malignos a partir de características extraídas de imágenes de células cancerosas, con el obejtivo de  determinar el modelo más efectivo para la clasificación de tumores, analizando qué variables aportan mayor información y cómo los algoritmos manejan la separación entre clases..\n"
      ],
      "metadata": {
        "id": "tAlHj8OxbIZa"
      }
    },
    {
      "cell_type": "markdown",
      "source": [
        "##1. Carga y Exploración del Dataset"
      ],
      "metadata": {
        "id": "An8ZoxiZbGob"
      }
    },
    {
      "cell_type": "markdown",
      "source": [
        "Vamos empezando por cargar el Data-Set paa proceder a mostrar las caracteristicas que contiene y las etiquetas de clasificación, asi como el numero de caracteristicas e instancias."
      ],
      "metadata": {
        "id": "kF8iuVWXdHpA"
      }
    },
    {
      "cell_type": "code",
      "execution_count": 8,
      "metadata": {
        "colab": {
          "base_uri": "https://localhost:8080/"
        },
        "id": "hCeJAyv87wMs",
        "outputId": "395eb251-5883-4f0c-c77c-3907bfd0dca8"
      },
      "outputs": [
        {
          "output_type": "stream",
          "name": "stdout",
          "text": [
            "Caracteristicas:  ['mean radius' 'mean texture' 'mean perimeter' 'mean area'\n",
            " 'mean smoothness' 'mean compactness' 'mean concavity'\n",
            " 'mean concave points' 'mean symmetry' 'mean fractal dimension'\n",
            " 'radius error' 'texture error' 'perimeter error' 'area error'\n",
            " 'smoothness error' 'compactness error' 'concavity error'\n",
            " 'concave points error' 'symmetry error' 'fractal dimension error'\n",
            " 'worst radius' 'worst texture' 'worst perimeter' 'worst area'\n",
            " 'worst smoothness' 'worst compactness' 'worst concavity'\n",
            " 'worst concave points' 'worst symmetry' 'worst fractal dimension']\n",
            "Etiquetas:  ['malignant' 'benign']\n",
            "Dimensiones del dataset:  (569, 30)\n"
          ]
        }
      ],
      "source": [
        "# Importamos la librería scikit-learn y el módulo datasets para cargar el conjunto de datos\n",
        "from sklearn import datasets\n",
        "\n",
        "# Cargamos el conjunto de datos de cáncer de mama\n",
        "cancer = datasets.load_breast_cancer()\n",
        "\n",
        "# Mostramos los nombres de las características disponibles en el dataset\n",
        "print(\"Caracteristicas: \", cancer.feature_names)\n",
        "\n",
        "# Mostramos las etiquetas de clasificación: 'malignant' y 'benign'\n",
        "print(\"Etiquetas: \", cancer.target_names)\n",
        "\n",
        "# Mostramos la forma de los datos: número de instancias y número de características\n",
        "print(\"Dimensiones del dataset: \", cancer.data.shape)  # (569, 30) indica 569 muestras con 30 características cada una"
      ]
    },
    {
      "cell_type": "markdown",
      "source": [
        "\n",
        "\n",
        "*   Visualización Inicial del Conjunto de Datos\n"
      ],
      "metadata": {
        "id": "QyffETyudUDH"
      }
    },
    {
      "cell_type": "markdown",
      "source": [
        "Ahora hacemos una vosualizacion de las primeras 10 filas para saber como se presentan las caracteristicas por muestra"
      ],
      "metadata": {
        "id": "CXQqx1VmfKM6"
      }
    },
    {
      "cell_type": "code",
      "source": [
        "# Imprimir las primeras 10 filas del conjunto de datos\n",
        "print(cancer.data[0:10])"
      ],
      "metadata": {
        "colab": {
          "base_uri": "https://localhost:8080/"
        },
        "id": "Ce0Y6x1g7zKe",
        "outputId": "aa711bce-0a7b-426a-9abc-361c10d86ebb"
      },
      "execution_count": 10,
      "outputs": [
        {
          "output_type": "stream",
          "name": "stdout",
          "text": [
            "[[1.799e+01 1.038e+01 1.228e+02 1.001e+03 1.184e-01 2.776e-01 3.001e-01\n",
            "  1.471e-01 2.419e-01 7.871e-02 1.095e+00 9.053e-01 8.589e+00 1.534e+02\n",
            "  6.399e-03 4.904e-02 5.373e-02 1.587e-02 3.003e-02 6.193e-03 2.538e+01\n",
            "  1.733e+01 1.846e+02 2.019e+03 1.622e-01 6.656e-01 7.119e-01 2.654e-01\n",
            "  4.601e-01 1.189e-01]\n",
            " [2.057e+01 1.777e+01 1.329e+02 1.326e+03 8.474e-02 7.864e-02 8.690e-02\n",
            "  7.017e-02 1.812e-01 5.667e-02 5.435e-01 7.339e-01 3.398e+00 7.408e+01\n",
            "  5.225e-03 1.308e-02 1.860e-02 1.340e-02 1.389e-02 3.532e-03 2.499e+01\n",
            "  2.341e+01 1.588e+02 1.956e+03 1.238e-01 1.866e-01 2.416e-01 1.860e-01\n",
            "  2.750e-01 8.902e-02]\n",
            " [1.969e+01 2.125e+01 1.300e+02 1.203e+03 1.096e-01 1.599e-01 1.974e-01\n",
            "  1.279e-01 2.069e-01 5.999e-02 7.456e-01 7.869e-01 4.585e+00 9.403e+01\n",
            "  6.150e-03 4.006e-02 3.832e-02 2.058e-02 2.250e-02 4.571e-03 2.357e+01\n",
            "  2.553e+01 1.525e+02 1.709e+03 1.444e-01 4.245e-01 4.504e-01 2.430e-01\n",
            "  3.613e-01 8.758e-02]\n",
            " [1.142e+01 2.038e+01 7.758e+01 3.861e+02 1.425e-01 2.839e-01 2.414e-01\n",
            "  1.052e-01 2.597e-01 9.744e-02 4.956e-01 1.156e+00 3.445e+00 2.723e+01\n",
            "  9.110e-03 7.458e-02 5.661e-02 1.867e-02 5.963e-02 9.208e-03 1.491e+01\n",
            "  2.650e+01 9.887e+01 5.677e+02 2.098e-01 8.663e-01 6.869e-01 2.575e-01\n",
            "  6.638e-01 1.730e-01]\n",
            " [2.029e+01 1.434e+01 1.351e+02 1.297e+03 1.003e-01 1.328e-01 1.980e-01\n",
            "  1.043e-01 1.809e-01 5.883e-02 7.572e-01 7.813e-01 5.438e+00 9.444e+01\n",
            "  1.149e-02 2.461e-02 5.688e-02 1.885e-02 1.756e-02 5.115e-03 2.254e+01\n",
            "  1.667e+01 1.522e+02 1.575e+03 1.374e-01 2.050e-01 4.000e-01 1.625e-01\n",
            "  2.364e-01 7.678e-02]\n",
            " [1.245e+01 1.570e+01 8.257e+01 4.771e+02 1.278e-01 1.700e-01 1.578e-01\n",
            "  8.089e-02 2.087e-01 7.613e-02 3.345e-01 8.902e-01 2.217e+00 2.719e+01\n",
            "  7.510e-03 3.345e-02 3.672e-02 1.137e-02 2.165e-02 5.082e-03 1.547e+01\n",
            "  2.375e+01 1.034e+02 7.416e+02 1.791e-01 5.249e-01 5.355e-01 1.741e-01\n",
            "  3.985e-01 1.244e-01]\n",
            " [1.825e+01 1.998e+01 1.196e+02 1.040e+03 9.463e-02 1.090e-01 1.127e-01\n",
            "  7.400e-02 1.794e-01 5.742e-02 4.467e-01 7.732e-01 3.180e+00 5.391e+01\n",
            "  4.314e-03 1.382e-02 2.254e-02 1.039e-02 1.369e-02 2.179e-03 2.288e+01\n",
            "  2.766e+01 1.532e+02 1.606e+03 1.442e-01 2.576e-01 3.784e-01 1.932e-01\n",
            "  3.063e-01 8.368e-02]\n",
            " [1.371e+01 2.083e+01 9.020e+01 5.779e+02 1.189e-01 1.645e-01 9.366e-02\n",
            "  5.985e-02 2.196e-01 7.451e-02 5.835e-01 1.377e+00 3.856e+00 5.096e+01\n",
            "  8.805e-03 3.029e-02 2.488e-02 1.448e-02 1.486e-02 5.412e-03 1.706e+01\n",
            "  2.814e+01 1.106e+02 8.970e+02 1.654e-01 3.682e-01 2.678e-01 1.556e-01\n",
            "  3.196e-01 1.151e-01]\n",
            " [1.300e+01 2.182e+01 8.750e+01 5.198e+02 1.273e-01 1.932e-01 1.859e-01\n",
            "  9.353e-02 2.350e-01 7.389e-02 3.063e-01 1.002e+00 2.406e+00 2.432e+01\n",
            "  5.731e-03 3.502e-02 3.553e-02 1.226e-02 2.143e-02 3.749e-03 1.549e+01\n",
            "  3.073e+01 1.062e+02 7.393e+02 1.703e-01 5.401e-01 5.390e-01 2.060e-01\n",
            "  4.378e-01 1.072e-01]\n",
            " [1.246e+01 2.404e+01 8.397e+01 4.759e+02 1.186e-01 2.396e-01 2.273e-01\n",
            "  8.543e-02 2.030e-01 8.243e-02 2.976e-01 1.599e+00 2.039e+00 2.394e+01\n",
            "  7.149e-03 7.217e-02 7.743e-02 1.432e-02 1.789e-02 1.008e-02 1.509e+01\n",
            "  4.068e+01 9.765e+01 7.114e+02 1.853e-01 1.058e+00 1.105e+00 2.210e-01\n",
            "  4.366e-01 2.075e-01]]\n"
          ]
        }
      ]
    },
    {
      "cell_type": "markdown",
      "source": [
        "\n",
        "*   Exploración de Etiquetas del Data-Set\n",
        "\n"
      ],
      "metadata": {
        "id": "S9cglIgUayGR"
      }
    },
    {
      "cell_type": "code",
      "source": [
        "# Imprime el vector objetivo que contiene las etiquetas para cada muestra del dataset,\n",
        "# donde cada valor numérico (0 o 1) indica la clase a la que pertenece la muestra.\n",
        "# Según 'cancer.target_names', 0 corresponde a 'malignant' y 1 a 'benign'.\n",
        "print(cancer.target)"
      ],
      "metadata": {
        "colab": {
          "base_uri": "https://localhost:8080/"
        },
        "id": "ErOBUHQJa0Ht",
        "outputId": "22d49c9c-53c7-416c-a195-8d3242f2b984"
      },
      "execution_count": 11,
      "outputs": [
        {
          "output_type": "stream",
          "name": "stdout",
          "text": [
            "[0 0 0 0 0 0 0 0 0 0 0 0 0 0 0 0 0 0 0 1 1 1 0 0 0 0 0 0 0 0 0 0 0 0 0 0 0\n",
            " 1 0 0 0 0 0 0 0 0 1 0 1 1 1 1 1 0 0 1 0 0 1 1 1 1 0 1 0 0 1 1 1 1 0 1 0 0\n",
            " 1 0 1 0 0 1 1 1 0 0 1 0 0 0 1 1 1 0 1 1 0 0 1 1 1 0 0 1 1 1 1 0 1 1 0 1 1\n",
            " 1 1 1 1 1 1 0 0 0 1 0 0 1 1 1 0 0 1 0 1 0 0 1 0 0 1 1 0 1 1 0 1 1 1 1 0 1\n",
            " 1 1 1 1 1 1 1 1 0 1 1 1 1 0 0 1 0 1 1 0 0 1 1 0 0 1 1 1 1 0 1 1 0 0 0 1 0\n",
            " 1 0 1 1 1 0 1 1 0 0 1 0 0 0 0 1 0 0 0 1 0 1 0 1 1 0 1 0 0 0 0 1 1 0 0 1 1\n",
            " 1 0 1 1 1 1 1 0 0 1 1 0 1 1 0 0 1 0 1 1 1 1 0 1 1 1 1 1 0 1 0 0 0 0 0 0 0\n",
            " 0 0 0 0 0 0 0 1 1 1 1 1 1 0 1 0 1 1 0 1 1 0 1 0 0 1 1 1 1 1 1 1 1 1 1 1 1\n",
            " 1 0 1 1 0 1 0 1 1 1 1 1 1 1 1 1 1 1 1 1 1 0 1 1 1 0 1 0 1 1 1 1 0 0 0 1 1\n",
            " 1 1 0 1 0 1 0 1 1 1 0 1 1 1 1 1 1 1 0 0 0 1 1 1 1 1 1 1 1 1 1 1 0 0 1 0 0\n",
            " 0 1 0 0 1 1 1 1 1 0 1 1 1 1 1 0 1 1 1 0 1 1 0 0 1 1 1 1 1 1 0 1 1 1 1 1 1\n",
            " 1 0 1 1 1 1 1 0 1 1 0 1 1 1 1 1 1 1 1 1 1 1 1 0 1 0 0 1 0 1 1 1 1 1 0 1 1\n",
            " 0 1 0 1 1 0 1 0 1 1 1 1 1 1 1 1 0 0 1 1 1 1 1 1 0 1 1 1 1 1 1 1 1 1 1 0 1\n",
            " 1 1 1 1 1 1 0 1 0 1 1 0 1 1 1 1 1 0 0 1 0 1 0 1 1 1 1 1 0 1 1 0 1 0 1 0 0\n",
            " 1 1 1 0 1 1 1 1 1 1 1 1 1 1 1 0 1 0 0 1 1 1 1 1 1 1 1 1 1 1 1 1 1 1 1 1 1\n",
            " 1 1 1 1 1 1 1 0 0 0 0 0 0 1]\n"
          ]
        }
      ]
    },
    {
      "cell_type": "markdown",
      "source": [
        "\n",
        "*   División en Conjunto de Entrenamiento y Prueba\n",
        "\n"
      ],
      "metadata": {
        "id": "ytF4AzCmgsDr"
      }
    },
    {
      "cell_type": "markdown",
      "source": [],
      "metadata": {
        "id": "kGo0lM-_hA3_"
      }
    },
    {
      "cell_type": "markdown",
      "source": [
        "##2. Clasificación"
      ],
      "metadata": {
        "id": "7OPeYE_ViyWn"
      }
    },
    {
      "cell_type": "markdown",
      "source": [
        "###2.1. Naive-Bayes"
      ],
      "metadata": {
        "id": "5G-6-A-Yi4Ft"
      }
    },
    {
      "cell_type": "markdown",
      "source": [
        "En esta sección se implementó el modelo de clasificación Naive Bayes, específicamente el clasificador GaussianNB, que asume que las variables predictoras siguen una distribución normal. Este algoritmo es especialmente útil por su simplicidad y rapidez, y suele funcionar bien incluso con conjuntos de datos relativamente pequeños o con muchas características.\n",
        "\n",
        "Primero, se importó el modelo desde la biblioteca sklearn.naive_bayes, y luego se creó una instancia del clasificador. Posteriormente, se entrenó el modelo utilizando los datos de entrenamiento (X_train, y_train) y se realizaron predicciones sobre el conjunto de prueba (X_test). Finalmente, se evaluó el rendimiento del modelo calculando métricas como la precisión (accuracy), la precisión positiva (precision) y la sensibilidad (recall), lo cual permitió comparar su desempeño con otros modelos.\n",
        "\n",
        "Este modelo es una buena opción inicial cuando se quiere tener una idea rápida de cómo se comportan los datos, ya que ofrece buenos resultados con una implementación muy sencilla."
      ],
      "metadata": {
        "id": "m1uSZ_kSmfSX"
      }
    },
    {
      "cell_type": "code",
      "source": [
        "# Ahora vamos a probar el modelo Naive Bayes\n",
        "from sklearn.naive_bayes import GaussianNB\n",
        "\n",
        "# Creamos una instancia del clasificador Naive Bayes\n",
        "nb = GaussianNB()\n",
        "\n",
        "# Entrenamos el modelo\n",
        "nb.fit(X_train, y_train)\n",
        "\n",
        "# Hacemos predicciones\n",
        "y_pred_nb = nb.predict(X_test)\n",
        "\n",
        "# Evaluamos el modelo\n",
        "print(\"\\n--- Naive Bayes ---\")\n",
        "print(\"Accuracy:\", metrics.accuracy_score(y_test, y_pred_nb))\n",
        "print(\"Precision:\", metrics.precision_score(y_test, y_pred_nb))\n",
        "print(\"Recall:\", metrics.recall_score(y_test, y_pred_nb))\n"
      ],
      "metadata": {
        "colab": {
          "base_uri": "https://localhost:8080/"
        },
        "id": "g8K0ZKtvlvj2",
        "outputId": "90fac37b-030e-42e0-f636-dbb398078e92"
      },
      "execution_count": 23,
      "outputs": [
        {
          "output_type": "stream",
          "name": "stdout",
          "text": [
            "Accuracy: 0.9532163742690059\n",
            "Precision: 0.9464285714285714\n",
            "Recall: 0.9814814814814815\n"
          ]
        }
      ]
    },
    {
      "cell_type": "markdown",
      "source": [
        "###2.2. Maquinas de Soporte Vectorial"
      ],
      "metadata": {
        "id": "G1EvXzYkjFff"
      }
    },
    {
      "cell_type": "markdown",
      "source": [
        "En esta sección se implementó el clasificador de Máquinas de Soporte Vectorial (SVM), utilizando un kernel lineal. Este modelo es eficaz para tareas de clasificación binaria y se caracteriza por su capacidad para encontrar el hiperplano óptimo que separa las clases en el espacio de características, lo que lo hace ideal para problemas de alta dimensionalidad. Además, SVM puede ser bastante robusto frente a overfitting en escenarios con muchos atributos.\n",
        "\n",
        "Primero, se dividió el conjunto de datos en entrenamiento y prueba utilizando la función train_test_split de sklearn.model_selection, reservando un 30% de los datos para las pruebas. Luego, se importó el clasificador SVM desde la librería sklearn.svm, creando una instancia con el kernel lineal. Posteriormente, el modelo fue entrenado con los datos de entrenamiento (X_train, y_train) y se utilizaron estos mismos datos para realizar predicciones en el conjunto de prueba (X_test). Finalmente, se evaluó el rendimiento del modelo calculando métricas como la precisión (accuracy), la precisión positiva (precision) y la sensibilidad (recall), lo que permitió analizar su desempeño comparado con otros modelos."
      ],
      "metadata": {
        "id": "X_jy6M3NoM56"
      }
    },
    {
      "cell_type": "code",
      "source": [
        "# División en conjunto de entrenamiento y prueba\n",
        "from sklearn.model_selection import train_test_split\n",
        "X_train, X_test, y_train, y_test = train_test_split(\n",
        "    cancer.data, cancer.target, test_size=0.3, random_state=109\n",
        ")\n",
        "\n",
        "# Importamos el módulo para SVM\n",
        "from sklearn import svm\n",
        "\n",
        "# Creamos el clasificador SVM con un kernel lineal\n",
        "clf = svm.SVC(kernel='linear')\n",
        "\n",
        "# Entrenamos el modelo con los datos de entrenamiento\n",
        "clf.fit(X_train, y_train)\n",
        "\n",
        "# Realizamos predicciones en el conjunto de prueba\n",
        "y_pred = clf.predict(X_test)\n",
        "\n",
        "# Evaluamos el modelo: Accuracy\n",
        "from sklearn import metrics\n",
        "print(\"\\n--- SVM ---\")\n",
        "print(\"Accuracy:\", metrics.accuracy_score(y_test, y_pred))\n",
        "\n",
        "# Evaluamos el modelo: Precisión y Recall\n",
        "print(\"Precision:\", metrics.precision_score(y_test, y_pred))\n",
        "print(\"Recall:\", metrics.recall_score(y_test, y_pred))\n"
      ],
      "metadata": {
        "colab": {
          "base_uri": "https://localhost:8080/"
        },
        "id": "ytTA-iFOa7c-",
        "outputId": "cce9dd92-ce15-4161-a2b3-4ddd1408e661"
      },
      "execution_count": 25,
      "outputs": [
        {
          "output_type": "stream",
          "name": "stdout",
          "text": [
            "\n",
            "--- SVM ---\n",
            "Accuracy: 0.9649122807017544\n",
            "Precision: 0.9811320754716981\n",
            "Recall: 0.9629629629629629\n"
          ]
        }
      ]
    },
    {
      "cell_type": "markdown",
      "source": [
        "###2.3. Análisis Discriminante"
      ],
      "metadata": {
        "id": "G_QBnb8hjI25"
      }
    },
    {
      "cell_type": "markdown",
      "source": [
        "También se implementó el modelo Linear Discriminant Analysis (LDA), un clasificador lineal que busca encontrar una combinación lineal de características que mejor separe las clases. LDA es particularmente efectivo cuando se cumplen sus supuestos: que los datos de cada clase siguen una distribución normal y que tienen varianzas iguales.\n",
        "\n",
        "El modelo fue importado desde sklearn.discriminant_analysis y luego entrenado con los datos de entrenamiento. Después de entrenarlo, se usó para hacer predicciones con el conjunto de prueba y se evaluó su rendimiento utilizando las mismas métricas que en los modelos anteriores.\n",
        "\n",
        "LDA no solo es útil como clasificador, sino también como técnica de reducción de dimensionalidad, ya que proyecta los datos en un espacio donde la separación entre clases es máxima. En este caso, permitió comparar su desempeño con SVM y Naive Bayes, ofreciendo un enfoque diferente que puede resultar útil en ciertos contextos donde las clases se distinguen bien mediante relaciones lineales."
      ],
      "metadata": {
        "id": "-5y_GVnpnVeh"
      }
    },
    {
      "cell_type": "code",
      "source": [
        "# Ahora vamos a probar el Análisis Discriminante Lineal (LDA)\n",
        "from sklearn.discriminant_analysis import LinearDiscriminantAnalysis\n",
        "\n",
        "# Creamos el modelo LDA\n",
        "lda = LinearDiscriminantAnalysis()\n",
        "\n",
        "# Entrenamos el modelo\n",
        "lda.fit(X_train, y_train)\n",
        "\n",
        "# Hacemos predicciones\n",
        "y_pred_lda = lda.predict(X_test)\n",
        "\n",
        "# Evaluamos el modelo\n",
        "print(\"\\n--- LDA ---\")\n",
        "print(\"Accuracy:\", metrics.accuracy_score(y_test, y_pred_lda))\n",
        "print(\"Precision:\", metrics.precision_score(y_test, y_pred_lda))\n",
        "print(\"Recall:\", metrics.recall_score(y_test, y_pred_lda))\n"
      ],
      "metadata": {
        "colab": {
          "base_uri": "https://localhost:8080/"
        },
        "id": "dPjpEYgYjLtj",
        "outputId": "232eaed1-dd38-4adf-f1a3-3e179090a41b"
      },
      "execution_count": 22,
      "outputs": [
        {
          "output_type": "stream",
          "name": "stdout",
          "text": [
            "Accuracy: 0.9824561403508771\n",
            "Precision: 0.972972972972973\n",
            "Recall: 1.0\n"
          ]
        }
      ]
    }
  ]
}