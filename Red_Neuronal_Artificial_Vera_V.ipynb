{
  "nbformat": 4,
  "nbformat_minor": 0,
  "metadata": {
    "colab": {
      "provenance": [],
      "authorship_tag": "ABX9TyPbAKCPPQNcwg564oYNp/KL",
      "include_colab_link": true
    },
    "kernelspec": {
      "name": "python3",
      "display_name": "Python 3"
    },
    "language_info": {
      "name": "python"
    }
  },
  "cells": [
    {
      "cell_type": "markdown",
      "metadata": {
        "id": "view-in-github",
        "colab_type": "text"
      },
      "source": [
        "<a href=\"https://colab.research.google.com/github/Lexie-v2/Goggle-CO/blob/main/Red_Neuronal_Artificial_Vera_V.ipynb\" target=\"_parent\"><img src=\"https://colab.research.google.com/assets/colab-badge.svg\" alt=\"Open In Colab\"/></a>"
      ]
    },
    {
      "cell_type": "markdown",
      "source": [
        "#Introducciòn a Keras: Implementando una RNA para clasificar imagenes"
      ],
      "metadata": {
        "id": "n7G-0CCj7fGR"
      }
    },
    {
      "cell_type": "markdown",
      "source": [
        "IMPLEMENTACIÒN DE UNA RED NEURONAL ARTIFICIAL"
      ],
      "metadata": {
        "id": "sXym_p4u75Ig"
      }
    },
    {
      "cell_type": "markdown",
      "source": [
        "##0. Importaciòn de librerias"
      ],
      "metadata": {
        "id": "_PhX0P5v8Ak_"
      }
    },
    {
      "cell_type": "markdown",
      "source": [
        "Como primer paso, vamos a importar las librerias especificas necesarias pra la implementaciòn de la Red Neuronal Artificial, en este caso usaremos el framework **Keras**"
      ],
      "metadata": {
        "id": "3tw3jLmt8KlQ"
      }
    },
    {
      "cell_type": "markdown",
      "source": [
        "Procedemos con la instalaciòn de Keras mediante el paquete de **keras-core**"
      ],
      "metadata": {
        "id": "danLhLgV-JbB"
      }
    },
    {
      "cell_type": "code",
      "source": [
        "#!pip install keras-core"
      ],
      "metadata": {
        "id": "4x2Ekn7i8H93"
      },
      "execution_count": 8,
      "outputs": []
    },
    {
      "cell_type": "markdown",
      "source": [
        "Con la nueva version de Keras, podemos escoger que backend vamos a utilizar, debemos tener en cuenta que por defecto se selecciona **tensorflow**, sin embargo, tenemos disponibles otros backends como **pytorch** o **jax**.\n",
        "No olvidar que el backend debe configurarse antes de importar Keras y no puede cambiarse despues de la importaciòn."
      ],
      "metadata": {
        "id": "3vCBhznC8ePQ"
      }
    },
    {
      "cell_type": "code",
      "source": [
        "#import os\n",
        "#os.environ[\"KERAS_BACKEND\"] = \"torch\""
      ],
      "metadata": {
        "id": "om9s0LCK8emQ"
      },
      "execution_count": 6,
      "outputs": []
    },
    {
      "cell_type": "markdown",
      "source": [
        "Importamos Keras con el backend seleccionado"
      ],
      "metadata": {
        "id": "_b_pXo1o-2Gh"
      }
    },
    {
      "cell_type": "code",
      "source": [
        "# import keras_core"
      ],
      "metadata": {
        "id": "4PyZ_deB-9mJ"
      },
      "execution_count": 7,
      "outputs": []
    },
    {
      "cell_type": "markdown",
      "source": [
        "Otra opcion es utilizar Keras desde el framework Tensorflow. Si el backend que vamos a utilizar es Tensorflow, esta opcion està màs optimizada y suele proporcionar mejores resultados.\n",
        "\n",
        "Tanto Keras-core como la versión de Keras que se encuentra en framework Tensorflow son totalmente compatibles y no requieren modificaciones en la implementación del programa.."
      ],
      "metadata": {
        "id": "3vhSD1bQ_W85"
      }
    },
    {
      "cell_type": "code",
      "source": [
        "from tensorflow import keras\n",
        "#Verificamos si el backend (Tensorflow) està utilizando la GPU\n",
        "import tensorflow as tf\n",
        "tf.test.gpu_device_name()"
      ],
      "metadata": {
        "colab": {
          "base_uri": "https://localhost:8080/",
          "height": 36
        },
        "id": "feVDrwys_XXI",
        "outputId": "f32268e2-cc89-4cc5-cd5d-988bf6bc3eff"
      },
      "execution_count": 9,
      "outputs": [
        {
          "output_type": "execute_result",
          "data": {
            "text/plain": [
              "''"
            ],
            "application/vnd.google.colaboratory.intrinsic+json": {
              "type": "string"
            }
          },
          "metadata": {},
          "execution_count": 9
        }
      ]
    },
    {
      "cell_type": "markdown",
      "source": [
        "##1. Preparacion del conjunto de datos de entrenamiento\n"
      ],
      "metadata": {
        "id": "aIuyzZ95CVEI"
      }
    },
    {
      "cell_type": "markdown",
      "source": [
        "##1.1 Importando el conjunto de datos"
      ],
      "metadata": {
        "id": "ARLdy16dC2B5"
      }
    },
    {
      "cell_type": "markdown",
      "source": [
        "Descargamos el conjunto de datos de imagenes. En este caso practico vamos a ahacer uso de conjunto de datos \"Dogs vs Cats\" de Kaggle.\n",
        "\n",
        "El conjunto de datos contiene 25000 imagenes de perros y gatos. El objetivo es entrenar una RNA profunda utilizando estos rchivos para que sea capaz de clasificar nuevas imagenes en funciòn de si aparece un perro y un gato."
      ],
      "metadata": {
        "id": "V80ZLkPYC-vh"
      }
    },
    {
      "cell_type": "code",
      "source": [
        "# Descargamos el conjunto de datos en el almacenamiento temporal de Google Colab\n",
        "!curl -O https://download.microsoft.com/download/3/E/1/3E1C3F21-ECDB-4869-8368-6DEBA77B919F/kagglecatsand"
      ],
      "metadata": {
        "colab": {
          "base_uri": "https://localhost:8080/"
        },
        "id": "4OeFBqODDyro",
        "outputId": "6c27dd84-f830-4ccd-aa20-819e7690c496"
      },
      "execution_count": 12,
      "outputs": [
        {
          "output_type": "stream",
          "name": "stdout",
          "text": [
            "  % Total    % Received % Xferd  Average Speed   Time    Time     Time  Current\n",
            "                                 Dload  Upload   Total   Spent    Left  Speed\n",
            "\r  0     0    0     0    0     0      0      0 --:--:-- --:--:-- --:--:--     0\r100  1213  100  1213    0     0   6849      0 --:--:-- --:--:-- --:--:--  6853\n"
          ]
        }
      ]
    },
    {
      "cell_type": "code",
      "source": [
        "# Descomprimimos el conjunto de datos\n",
        "!unzip -q kagglecatsanddogs_5340.zip"
      ],
      "metadata": {
        "colab": {
          "base_uri": "https://localhost:8080/"
        },
        "id": "qeDa7E7HEghx",
        "outputId": "53610fd0-82c0-41d0-9d6b-b9232d99c9b4"
      },
      "execution_count": 13,
      "outputs": [
        {
          "output_type": "stream",
          "name": "stdout",
          "text": [
            "unzip:  cannot find or open kagglecatsanddogs_5340.zip, kagglecatsanddogs_5340.zip.zip or kagglecatsanddogs_5340.zip.ZIP.\n"
          ]
        }
      ]
    },
    {
      "cell_type": "code",
      "source": [
        "from google.colab import drive\n",
        "drive.mount('/content/drive')"
      ],
      "metadata": {
        "colab": {
          "base_uri": "https://localhost:8080/"
        },
        "id": "klySN8BrFTp5",
        "outputId": "2cfc3cb0-e5c2-4c5f-83a6-34662721b04d"
      },
      "execution_count": 15,
      "outputs": [
        {
          "output_type": "stream",
          "name": "stdout",
          "text": [
            "Mounted at /content/drive\n"
          ]
        }
      ]
    }
  ]
}